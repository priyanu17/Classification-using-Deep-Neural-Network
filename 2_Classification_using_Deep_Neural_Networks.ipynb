{
  "nbformat": 4,
  "nbformat_minor": 0,
  "metadata": {
    "colab": {
      "name": "2 Classification using Deep Neural Networks",
      "provenance": [],
      "collapsed_sections": []
    },
    "kernelspec": {
      "name": "python3",
      "display_name": "Python 3"
    }
  },
  "cells": [
    {
      "cell_type": "code",
      "metadata": {
        "id": "tMO9UNcS4A_m",
        "colab_type": "code",
        "colab": {}
      },
      "source": [
        "# Linear Classification using tensorflow(deep neural network)"
      ],
      "execution_count": 0,
      "outputs": []
    },
    {
      "cell_type": "markdown",
      "metadata": {
        "id": "7aKcguV_6htk",
        "colab_type": "text"
      },
      "source": [
        "Classification using Tensorflow: \n",
        "Linear Classification can be used to divide data sets into different classes based on training the data on the input dataset.\n",
        "\n",
        "The different classes of data will be represented under different labels of data .\n",
        "\n",
        "This example uses a tensorflow estimator to classify flower datasets into different species based on the measurement metrics.\n",
        "\n",
        "The different flower species are as follows :\n",
        "\n",
        "1) Setosa\n",
        "\n",
        "2) Versicolor\n",
        "\n",
        "3) Virginica\n"
      ]
    },
    {
      "cell_type": "code",
      "metadata": {
        "id": "p3x8nirs6klG",
        "colab_type": "code",
        "colab": {}
      },
      "source": [
        "# we make use of Tensorflow Estimators in this module"
      ],
      "execution_count": 0,
      "outputs": []
    },
    {
      "cell_type": "code",
      "metadata": {
        "id": "72wsTsfO75Er",
        "colab_type": "code",
        "colab": {}
      },
      "source": [
        "%tensorflow_version 2.x\n"
      ],
      "execution_count": 0,
      "outputs": []
    },
    {
      "cell_type": "code",
      "metadata": {
        "id": "8Rzd8CC88FWR",
        "colab_type": "code",
        "colab": {}
      },
      "source": [
        "from __future__ import absolute_import, division, print_function, unicode_literals\n",
        "\n",
        "import numpy as np # module for array estimation\n",
        "import pandas as pd # data frame manipulation tool\n",
        "import matplotlib.pyplot as plt # visualization module\n",
        "\n",
        "\n",
        "import tensorflow as tf\n",
        "# machine learning module "
      ],
      "execution_count": 0,
      "outputs": []
    },
    {
      "cell_type": "markdown",
      "metadata": {
        "id": "A8g9BPfo_nwg",
        "colab_type": "text"
      },
      "source": [
        "Dataset : Iris Flower \n",
        "Information contained in our dataset are as follows\n",
        "\n",
        "1) Sepal Length\n",
        "\n",
        "2) Sepal Width\n",
        "\n",
        "3) Petal Length\n",
        "\n",
        "4) Petal Width\n"
      ]
    },
    {
      "cell_type": "code",
      "metadata": {
        "id": "aJmuHEME8SMh",
        "colab_type": "code",
        "colab": {}
      },
      "source": [
        "CSV_COLUMN_NAMES = ['SepalLength', 'SepalWidth', 'PetalLength', 'PetalWidth', 'Species']\n",
        "SPECIES = ['Setosa', 'Versicolor', 'Virginica']\n",
        "\n",
        "# Constant values to be used later "
      ],
      "execution_count": 0,
      "outputs": []
    },
    {
      "cell_type": "code",
      "metadata": {
        "id": "aSju18Q5AH4A",
        "colab_type": "code",
        "colab": {}
      },
      "source": [
        "train = pd.read_csv(\"https://storage.googleapis.com/download.tensorflow.org/data/iris_training.csv\", names = CSV_COLUMN_NAMES, header = 0) # training data \n",
        "test = pd.read_csv(\"https://storage.googleapis.com/download.tensorflow.org/data/iris_test.csv\", names = CSV_COLUMN_NAMES, header = 0) # testing data \n"
      ],
      "execution_count": 0,
      "outputs": []
    },
    {
      "cell_type": "code",
      "metadata": {
        "id": "8OnmfbQKAaEM",
        "colab_type": "code",
        "outputId": "680da4fc-b350-4967-d037-7632673c7318",
        "colab": {
          "base_uri": "https://localhost:8080/",
          "height": 196
        }
      },
      "source": [
        "train.head()"
      ],
      "execution_count": 7,
      "outputs": [
        {
          "output_type": "execute_result",
          "data": {
            "text/html": [
              "<div>\n",
              "<style scoped>\n",
              "    .dataframe tbody tr th:only-of-type {\n",
              "        vertical-align: middle;\n",
              "    }\n",
              "\n",
              "    .dataframe tbody tr th {\n",
              "        vertical-align: top;\n",
              "    }\n",
              "\n",
              "    .dataframe thead th {\n",
              "        text-align: right;\n",
              "    }\n",
              "</style>\n",
              "<table border=\"1\" class=\"dataframe\">\n",
              "  <thead>\n",
              "    <tr style=\"text-align: right;\">\n",
              "      <th></th>\n",
              "      <th>SepalLength</th>\n",
              "      <th>SepalWidth</th>\n",
              "      <th>PetalLength</th>\n",
              "      <th>PetalWidth</th>\n",
              "      <th>Species</th>\n",
              "    </tr>\n",
              "  </thead>\n",
              "  <tbody>\n",
              "    <tr>\n",
              "      <th>0</th>\n",
              "      <td>6.4</td>\n",
              "      <td>2.8</td>\n",
              "      <td>5.6</td>\n",
              "      <td>2.2</td>\n",
              "      <td>2</td>\n",
              "    </tr>\n",
              "    <tr>\n",
              "      <th>1</th>\n",
              "      <td>5.0</td>\n",
              "      <td>2.3</td>\n",
              "      <td>3.3</td>\n",
              "      <td>1.0</td>\n",
              "      <td>1</td>\n",
              "    </tr>\n",
              "    <tr>\n",
              "      <th>2</th>\n",
              "      <td>4.9</td>\n",
              "      <td>2.5</td>\n",
              "      <td>4.5</td>\n",
              "      <td>1.7</td>\n",
              "      <td>2</td>\n",
              "    </tr>\n",
              "    <tr>\n",
              "      <th>3</th>\n",
              "      <td>4.9</td>\n",
              "      <td>3.1</td>\n",
              "      <td>1.5</td>\n",
              "      <td>0.1</td>\n",
              "      <td>0</td>\n",
              "    </tr>\n",
              "    <tr>\n",
              "      <th>4</th>\n",
              "      <td>5.7</td>\n",
              "      <td>3.8</td>\n",
              "      <td>1.7</td>\n",
              "      <td>0.3</td>\n",
              "      <td>0</td>\n",
              "    </tr>\n",
              "  </tbody>\n",
              "</table>\n",
              "</div>"
            ],
            "text/plain": [
              "   SepalLength  SepalWidth  PetalLength  PetalWidth  Species\n",
              "0          6.4         2.8          5.6         2.2        2\n",
              "1          5.0         2.3          3.3         1.0        1\n",
              "2          4.9         2.5          4.5         1.7        2\n",
              "3          4.9         3.1          1.5         0.1        0\n",
              "4          5.7         3.8          1.7         0.3        0"
            ]
          },
          "metadata": {
            "tags": []
          },
          "execution_count": 7
        }
      ]
    },
    {
      "cell_type": "code",
      "metadata": {
        "id": "KdT69EaXAmes",
        "colab_type": "code",
        "colab": {}
      },
      "source": [
        "# Here the data is all numeric and in proper encoding"
      ],
      "execution_count": 0,
      "outputs": []
    },
    {
      "cell_type": "code",
      "metadata": {
        "id": "UcF0VUJLCY_J",
        "colab_type": "code",
        "colab": {}
      },
      "source": [
        "# No categorical column values "
      ],
      "execution_count": 0,
      "outputs": []
    },
    {
      "cell_type": "code",
      "metadata": {
        "id": "MavYdU_4CdI9",
        "colab_type": "code",
        "outputId": "7d9085e7-988f-40f9-82bd-f644268fd021",
        "colab": {
          "base_uri": "https://localhost:8080/",
          "height": 585
        }
      },
      "source": [
        "train[\"SepalLength\"].value_counts()"
      ],
      "execution_count": 10,
      "outputs": [
        {
          "output_type": "execute_result",
          "data": {
            "text/plain": [
              "5.0    10\n",
              "4.9     6\n",
              "6.3     6\n",
              "5.7     6\n",
              "5.1     6\n",
              "6.4     6\n",
              "5.8     6\n",
              "5.4     5\n",
              "6.1     5\n",
              "6.5     5\n",
              "6.7     5\n",
              "4.8     4\n",
              "4.6     4\n",
              "5.5     4\n",
              "7.7     4\n",
              "6.0     4\n",
              "4.4     3\n",
              "6.8     3\n",
              "6.9     3\n",
              "5.2     3\n",
              "7.2     3\n",
              "5.6     3\n",
              "6.2     3\n",
              "5.9     2\n",
              "6.6     2\n",
              "4.7     2\n",
              "7.3     1\n",
              "7.9     1\n",
              "5.3     1\n",
              "7.6     1\n",
              "7.4     1\n",
              "4.5     1\n",
              "7.0     1\n",
              "Name: SepalLength, dtype: int64"
            ]
          },
          "metadata": {
            "tags": []
          },
          "execution_count": 10
        }
      ]
    },
    {
      "cell_type": "code",
      "metadata": {
        "id": "ArCKZlmxCs-0",
        "colab_type": "code",
        "outputId": "c9035232-142e-4ab2-a06c-ca5a6896d878",
        "colab": {
          "base_uri": "https://localhost:8080/",
          "height": 33
        }
      },
      "source": [
        "train[\"SepalLength\"].value_counts().count()"
      ],
      "execution_count": 11,
      "outputs": [
        {
          "output_type": "execute_result",
          "data": {
            "text/plain": [
              "33"
            ]
          },
          "metadata": {
            "tags": []
          },
          "execution_count": 11
        }
      ]
    },
    {
      "cell_type": "code",
      "metadata": {
        "id": "tKfAHBssC7Cv",
        "colab_type": "code",
        "outputId": "5f0c97de-5e96-413f-aa90-531c55102d39",
        "colab": {
          "base_uri": "https://localhost:8080/",
          "height": 385
        }
      },
      "source": [
        "train[\"SepalWidth\"].value_counts()"
      ],
      "execution_count": 12,
      "outputs": [
        {
          "output_type": "execute_result",
          "data": {
            "text/plain": [
              "3.0    20\n",
              "3.2    13\n",
              "2.8    12\n",
              "3.1    10\n",
              "2.7     8\n",
              "3.4     8\n",
              "2.9     7\n",
              "3.8     6\n",
              "3.5     5\n",
              "3.3     4\n",
              "2.5     4\n",
              "2.6     4\n",
              "2.4     3\n",
              "3.6     3\n",
              "2.3     3\n",
              "3.7     3\n",
              "3.9     2\n",
              "2.2     2\n",
              "4.4     1\n",
              "2.0     1\n",
              "4.0     1\n",
              "Name: SepalWidth, dtype: int64"
            ]
          },
          "metadata": {
            "tags": []
          },
          "execution_count": 12
        }
      ]
    },
    {
      "cell_type": "code",
      "metadata": {
        "id": "uzsq7lOrDC3K",
        "colab_type": "code",
        "outputId": "9ad3e9e2-69b6-4c6a-df93-cbc8963b7de0",
        "colab": {
          "base_uri": "https://localhost:8080/",
          "height": 33
        }
      },
      "source": [
        "train[\"SepalWidth\"].value_counts().count()"
      ],
      "execution_count": 13,
      "outputs": [
        {
          "output_type": "execute_result",
          "data": {
            "text/plain": [
              "21"
            ]
          },
          "metadata": {
            "tags": []
          },
          "execution_count": 13
        }
      ]
    },
    {
      "cell_type": "code",
      "metadata": {
        "id": "LRa6QvqNDJrr",
        "colab_type": "code",
        "outputId": "139a1110-7999-487e-94a1-ab315b2e34e0",
        "colab": {
          "base_uri": "https://localhost:8080/",
          "height": 719
        }
      },
      "source": [
        "train[\"PetalLength\"].value_counts()"
      ],
      "execution_count": 14,
      "outputs": [
        {
          "output_type": "execute_result",
          "data": {
            "text/plain": [
              "1.5    12\n",
              "1.4    10\n",
              "1.3     7\n",
              "1.6     7\n",
              "5.1     7\n",
              "4.5     6\n",
              "5.6     5\n",
              "4.7     4\n",
              "4.4     4\n",
              "4.8     4\n",
              "4.9     3\n",
              "5.0     3\n",
              "6.1     3\n",
              "5.5     3\n",
              "4.2     3\n",
              "5.2     2\n",
              "5.3     2\n",
              "4.0     2\n",
              "6.0     2\n",
              "1.7     2\n",
              "4.1     2\n",
              "3.9     2\n",
              "6.7     2\n",
              "1.2     2\n",
              "5.8     2\n",
              "5.7     2\n",
              "3.3     2\n",
              "4.6     2\n",
              "6.9     1\n",
              "1.9     1\n",
              "3.0     1\n",
              "1.0     1\n",
              "3.5     1\n",
              "6.6     1\n",
              "5.9     1\n",
              "3.7     1\n",
              "6.4     1\n",
              "6.3     1\n",
              "5.4     1\n",
              "3.8     1\n",
              "3.6     1\n",
              "Name: PetalLength, dtype: int64"
            ]
          },
          "metadata": {
            "tags": []
          },
          "execution_count": 14
        }
      ]
    },
    {
      "cell_type": "code",
      "metadata": {
        "id": "d9cmYziUDPB4",
        "colab_type": "code",
        "outputId": "d33e12cc-540e-4ee6-9007-95fcb27570ff",
        "colab": {
          "base_uri": "https://localhost:8080/",
          "height": 33
        }
      },
      "source": [
        "train[\"PetalLength\"].value_counts().count()"
      ],
      "execution_count": 15,
      "outputs": [
        {
          "output_type": "execute_result",
          "data": {
            "text/plain": [
              "41"
            ]
          },
          "metadata": {
            "tags": []
          },
          "execution_count": 15
        }
      ]
    },
    {
      "cell_type": "code",
      "metadata": {
        "id": "DDZ3dx7ODUvt",
        "colab_type": "code",
        "outputId": "2fbbf13a-4309-4678-fd48-c872e9d54d5b",
        "colab": {
          "base_uri": "https://localhost:8080/",
          "height": 385
        }
      },
      "source": [
        "train[\"PetalWidth\"].value_counts()"
      ],
      "execution_count": 16,
      "outputs": [
        {
          "output_type": "execute_result",
          "data": {
            "text/plain": [
              "0.2    23\n",
              "1.8    10\n",
              "2.3     8\n",
              "1.3     8\n",
              "0.3     7\n",
              "1.5     7\n",
              "1.4     7\n",
              "0.4     7\n",
              "1.0     5\n",
              "1.9     5\n",
              "1.2     4\n",
              "2.1     4\n",
              "2.0     4\n",
              "0.1     4\n",
              "2.4     3\n",
              "1.1     3\n",
              "1.6     3\n",
              "2.2     3\n",
              "1.7     2\n",
              "2.5     2\n",
              "0.6     1\n",
              "Name: PetalWidth, dtype: int64"
            ]
          },
          "metadata": {
            "tags": []
          },
          "execution_count": 16
        }
      ]
    },
    {
      "cell_type": "code",
      "metadata": {
        "id": "Ik75KWI_DZFg",
        "colab_type": "code",
        "outputId": "5663f55a-2d1a-46a6-da82-c7850bd32f68",
        "colab": {
          "base_uri": "https://localhost:8080/",
          "height": 33
        }
      },
      "source": [
        "train[\"PetalWidth\"].value_counts().count()"
      ],
      "execution_count": 17,
      "outputs": [
        {
          "output_type": "execute_result",
          "data": {
            "text/plain": [
              "21"
            ]
          },
          "metadata": {
            "tags": []
          },
          "execution_count": 17
        }
      ]
    },
    {
      "cell_type": "code",
      "metadata": {
        "id": "O5z6EeAtDfUp",
        "colab_type": "code",
        "colab": {}
      },
      "source": [
        "# above metrics show the distribution of data values in our module "
      ],
      "execution_count": 0,
      "outputs": []
    },
    {
      "cell_type": "code",
      "metadata": {
        "id": "NusNnS_TDoR1",
        "colab_type": "code",
        "colab": {}
      },
      "source": [
        "train_y = train.pop('Species')\n",
        "test_y = test.pop('Species')\n"
      ],
      "execution_count": 0,
      "outputs": []
    },
    {
      "cell_type": "code",
      "metadata": {
        "id": "bkqFg4_jDtTG",
        "colab_type": "code",
        "outputId": "91d5aac2-ee59-4d13-8de7-362d0e50e03c",
        "colab": {
          "base_uri": "https://localhost:8080/",
          "height": 196
        }
      },
      "source": [
        "train.head() # the species column is now removed from the original dataset"
      ],
      "execution_count": 20,
      "outputs": [
        {
          "output_type": "execute_result",
          "data": {
            "text/html": [
              "<div>\n",
              "<style scoped>\n",
              "    .dataframe tbody tr th:only-of-type {\n",
              "        vertical-align: middle;\n",
              "    }\n",
              "\n",
              "    .dataframe tbody tr th {\n",
              "        vertical-align: top;\n",
              "    }\n",
              "\n",
              "    .dataframe thead th {\n",
              "        text-align: right;\n",
              "    }\n",
              "</style>\n",
              "<table border=\"1\" class=\"dataframe\">\n",
              "  <thead>\n",
              "    <tr style=\"text-align: right;\">\n",
              "      <th></th>\n",
              "      <th>SepalLength</th>\n",
              "      <th>SepalWidth</th>\n",
              "      <th>PetalLength</th>\n",
              "      <th>PetalWidth</th>\n",
              "    </tr>\n",
              "  </thead>\n",
              "  <tbody>\n",
              "    <tr>\n",
              "      <th>0</th>\n",
              "      <td>6.4</td>\n",
              "      <td>2.8</td>\n",
              "      <td>5.6</td>\n",
              "      <td>2.2</td>\n",
              "    </tr>\n",
              "    <tr>\n",
              "      <th>1</th>\n",
              "      <td>5.0</td>\n",
              "      <td>2.3</td>\n",
              "      <td>3.3</td>\n",
              "      <td>1.0</td>\n",
              "    </tr>\n",
              "    <tr>\n",
              "      <th>2</th>\n",
              "      <td>4.9</td>\n",
              "      <td>2.5</td>\n",
              "      <td>4.5</td>\n",
              "      <td>1.7</td>\n",
              "    </tr>\n",
              "    <tr>\n",
              "      <th>3</th>\n",
              "      <td>4.9</td>\n",
              "      <td>3.1</td>\n",
              "      <td>1.5</td>\n",
              "      <td>0.1</td>\n",
              "    </tr>\n",
              "    <tr>\n",
              "      <th>4</th>\n",
              "      <td>5.7</td>\n",
              "      <td>3.8</td>\n",
              "      <td>1.7</td>\n",
              "      <td>0.3</td>\n",
              "    </tr>\n",
              "  </tbody>\n",
              "</table>\n",
              "</div>"
            ],
            "text/plain": [
              "   SepalLength  SepalWidth  PetalLength  PetalWidth\n",
              "0          6.4         2.8          5.6         2.2\n",
              "1          5.0         2.3          3.3         1.0\n",
              "2          4.9         2.5          4.5         1.7\n",
              "3          4.9         3.1          1.5         0.1\n",
              "4          5.7         3.8          1.7         0.3"
            ]
          },
          "metadata": {
            "tags": []
          },
          "execution_count": 20
        }
      ]
    },
    {
      "cell_type": "code",
      "metadata": {
        "id": "9dB0ZZQ6D3d5",
        "colab_type": "code",
        "outputId": "76d7353d-a8ac-4b1b-d32c-4d793fd27714",
        "colab": {
          "base_uri": "https://localhost:8080/",
          "height": 33
        }
      },
      "source": [
        "train.shape "
      ],
      "execution_count": 21,
      "outputs": [
        {
          "output_type": "execute_result",
          "data": {
            "text/plain": [
              "(120, 4)"
            ]
          },
          "metadata": {
            "tags": []
          },
          "execution_count": 21
        }
      ]
    },
    {
      "cell_type": "code",
      "metadata": {
        "id": "lgwbGGNCEY-W",
        "colab_type": "code",
        "outputId": "49b463bc-82fb-47b5-e6bb-2d06639f73b1",
        "colab": {
          "base_uri": "https://localhost:8080/",
          "height": 286
        }
      },
      "source": [
        "train.describe()"
      ],
      "execution_count": 22,
      "outputs": [
        {
          "output_type": "execute_result",
          "data": {
            "text/html": [
              "<div>\n",
              "<style scoped>\n",
              "    .dataframe tbody tr th:only-of-type {\n",
              "        vertical-align: middle;\n",
              "    }\n",
              "\n",
              "    .dataframe tbody tr th {\n",
              "        vertical-align: top;\n",
              "    }\n",
              "\n",
              "    .dataframe thead th {\n",
              "        text-align: right;\n",
              "    }\n",
              "</style>\n",
              "<table border=\"1\" class=\"dataframe\">\n",
              "  <thead>\n",
              "    <tr style=\"text-align: right;\">\n",
              "      <th></th>\n",
              "      <th>SepalLength</th>\n",
              "      <th>SepalWidth</th>\n",
              "      <th>PetalLength</th>\n",
              "      <th>PetalWidth</th>\n",
              "    </tr>\n",
              "  </thead>\n",
              "  <tbody>\n",
              "    <tr>\n",
              "      <th>count</th>\n",
              "      <td>120.000000</td>\n",
              "      <td>120.000000</td>\n",
              "      <td>120.000000</td>\n",
              "      <td>120.000000</td>\n",
              "    </tr>\n",
              "    <tr>\n",
              "      <th>mean</th>\n",
              "      <td>5.845000</td>\n",
              "      <td>3.065000</td>\n",
              "      <td>3.739167</td>\n",
              "      <td>1.196667</td>\n",
              "    </tr>\n",
              "    <tr>\n",
              "      <th>std</th>\n",
              "      <td>0.868578</td>\n",
              "      <td>0.427156</td>\n",
              "      <td>1.822100</td>\n",
              "      <td>0.782039</td>\n",
              "    </tr>\n",
              "    <tr>\n",
              "      <th>min</th>\n",
              "      <td>4.400000</td>\n",
              "      <td>2.000000</td>\n",
              "      <td>1.000000</td>\n",
              "      <td>0.100000</td>\n",
              "    </tr>\n",
              "    <tr>\n",
              "      <th>25%</th>\n",
              "      <td>5.075000</td>\n",
              "      <td>2.800000</td>\n",
              "      <td>1.500000</td>\n",
              "      <td>0.300000</td>\n",
              "    </tr>\n",
              "    <tr>\n",
              "      <th>50%</th>\n",
              "      <td>5.800000</td>\n",
              "      <td>3.000000</td>\n",
              "      <td>4.400000</td>\n",
              "      <td>1.300000</td>\n",
              "    </tr>\n",
              "    <tr>\n",
              "      <th>75%</th>\n",
              "      <td>6.425000</td>\n",
              "      <td>3.300000</td>\n",
              "      <td>5.100000</td>\n",
              "      <td>1.800000</td>\n",
              "    </tr>\n",
              "    <tr>\n",
              "      <th>max</th>\n",
              "      <td>7.900000</td>\n",
              "      <td>4.400000</td>\n",
              "      <td>6.900000</td>\n",
              "      <td>2.500000</td>\n",
              "    </tr>\n",
              "  </tbody>\n",
              "</table>\n",
              "</div>"
            ],
            "text/plain": [
              "       SepalLength  SepalWidth  PetalLength  PetalWidth\n",
              "count   120.000000  120.000000   120.000000  120.000000\n",
              "mean      5.845000    3.065000     3.739167    1.196667\n",
              "std       0.868578    0.427156     1.822100    0.782039\n",
              "min       4.400000    2.000000     1.000000    0.100000\n",
              "25%       5.075000    2.800000     1.500000    0.300000\n",
              "50%       5.800000    3.000000     4.400000    1.300000\n",
              "75%       6.425000    3.300000     5.100000    1.800000\n",
              "max       7.900000    4.400000     6.900000    2.500000"
            ]
          },
          "metadata": {
            "tags": []
          },
          "execution_count": 22
        }
      ]
    },
    {
      "cell_type": "code",
      "metadata": {
        "id": "8oPdfOEUEakx",
        "colab_type": "code",
        "outputId": "a415e18c-45e5-458e-fffb-059244da2bff",
        "colab": {
          "base_uri": "https://localhost:8080/",
          "height": 201
        }
      },
      "source": [
        "train.info()"
      ],
      "execution_count": 23,
      "outputs": [
        {
          "output_type": "stream",
          "text": [
            "<class 'pandas.core.frame.DataFrame'>\n",
            "RangeIndex: 120 entries, 0 to 119\n",
            "Data columns (total 4 columns):\n",
            " #   Column       Non-Null Count  Dtype  \n",
            "---  ------       --------------  -----  \n",
            " 0   SepalLength  120 non-null    float64\n",
            " 1   SepalWidth   120 non-null    float64\n",
            " 2   PetalLength  120 non-null    float64\n",
            " 3   PetalWidth   120 non-null    float64\n",
            "dtypes: float64(4)\n",
            "memory usage: 3.9 KB\n"
          ],
          "name": "stdout"
        }
      ]
    },
    {
      "cell_type": "code",
      "metadata": {
        "id": "_BoBvE5DEcQp",
        "colab_type": "code",
        "colab": {}
      },
      "source": [
        "def input_fn(features, labels, training=True, batch_size=256):\n",
        "    # Convert the inputs to a Dataset.\n",
        "    dataset = tf.data.Dataset.from_tensor_slices((dict(features), labels))\n",
        "\n",
        "    # Shuffle and repeat if you are in training mode.\n",
        "    if training:\n",
        "        dataset = dataset.shuffle(1000).repeat()\n",
        "    \n",
        "    return dataset.batch(batch_size)"
      ],
      "execution_count": 0,
      "outputs": []
    },
    {
      "cell_type": "code",
      "metadata": {
        "id": "iRON7vAXFMeY",
        "colab_type": "code",
        "colab": {}
      },
      "source": [
        "# Above we defined an input function that converts data into batches when passed into it"
      ],
      "execution_count": 0,
      "outputs": []
    },
    {
      "cell_type": "code",
      "metadata": {
        "id": "zDrQ3Ta3FSwc",
        "colab_type": "code",
        "colab": {}
      },
      "source": [
        "# Now we create feature columns upon which the model can train"
      ],
      "execution_count": 0,
      "outputs": []
    },
    {
      "cell_type": "code",
      "metadata": {
        "id": "tP1yAfMcFkWQ",
        "colab_type": "code",
        "outputId": "dd8dbeac-e6b1-4b94-dffe-b4ed5155fae8",
        "colab": {
          "base_uri": "https://localhost:8080/",
          "height": 53
        }
      },
      "source": [
        "# Feature columns describe how to use the input.\n",
        "my_feature_columns = []\n",
        "for key in train.keys():\n",
        "    my_feature_columns.append(tf.feature_column.numeric_column(key=key))\n",
        "print(my_feature_columns)"
      ],
      "execution_count": 27,
      "outputs": [
        {
          "output_type": "stream",
          "text": [
            "[NumericColumn(key='SepalLength', shape=(1,), default_value=None, dtype=tf.float32, normalizer_fn=None), NumericColumn(key='SepalWidth', shape=(1,), default_value=None, dtype=tf.float32, normalizer_fn=None), NumericColumn(key='PetalLength', shape=(1,), default_value=None, dtype=tf.float32, normalizer_fn=None), NumericColumn(key='PetalWidth', shape=(1,), default_value=None, dtype=tf.float32, normalizer_fn=None)]\n"
          ],
          "name": "stdout"
        }
      ]
    },
    {
      "cell_type": "code",
      "metadata": {
        "id": "c6X5dgVzFmYc",
        "colab_type": "code",
        "colab": {}
      },
      "source": [
        "# We are using a deep neural network classifier to create our classification paradigm"
      ],
      "execution_count": 0,
      "outputs": []
    },
    {
      "cell_type": "code",
      "metadata": {
        "id": "uu4WyF0OF4Xj",
        "colab_type": "code",
        "outputId": "8720f916-fd9f-4fe7-a4cd-6cd77f8d2721",
        "colab": {
          "base_uri": "https://localhost:8080/",
          "height": 187
        }
      },
      "source": [
        "# Build a DNN with 2 hidden layers with 30 and 10 hidden nodes each.\n",
        "classifier = tf.estimator.DNNClassifier(\n",
        "    feature_columns=my_feature_columns,\n",
        "    hidden_units=[30, 10],\n",
        "    n_classes=3)"
      ],
      "execution_count": 29,
      "outputs": [
        {
          "output_type": "stream",
          "text": [
            "INFO:tensorflow:Using default config.\n",
            "WARNING:tensorflow:Using temporary folder as model directory: /tmp/tmpc8kdwf9q\n",
            "INFO:tensorflow:Using config: {'_model_dir': '/tmp/tmpc8kdwf9q', '_tf_random_seed': None, '_save_summary_steps': 100, '_save_checkpoints_steps': None, '_save_checkpoints_secs': 600, '_session_config': allow_soft_placement: true\n",
            "graph_options {\n",
            "  rewrite_options {\n",
            "    meta_optimizer_iterations: ONE\n",
            "  }\n",
            "}\n",
            ", '_keep_checkpoint_max': 5, '_keep_checkpoint_every_n_hours': 10000, '_log_step_count_steps': 100, '_train_distribute': None, '_device_fn': None, '_protocol': None, '_eval_distribute': None, '_experimental_distribute': None, '_experimental_max_worker_delay_secs': None, '_session_creation_timeout_secs': 7200, '_service': None, '_cluster_spec': ClusterSpec({}), '_task_type': 'worker', '_task_id': 0, '_global_id_in_cluster': 0, '_master': '', '_evaluation_master': '', '_is_chief': True, '_num_ps_replicas': 0, '_num_worker_replicas': 1}\n"
          ],
          "name": "stdout"
        }
      ]
    },
    {
      "cell_type": "code",
      "metadata": {
        "id": "ySfD8JIaIwoU",
        "colab_type": "code",
        "colab": {}
      },
      "source": [
        "from IPython.display import clear_output"
      ],
      "execution_count": 0,
      "outputs": []
    },
    {
      "cell_type": "code",
      "metadata": {
        "id": "4Kb-Ek9vGNDX",
        "colab_type": "code",
        "colab": {
          "base_uri": "https://localhost:8080/",
          "height": 1000
        },
        "outputId": "86795b82-e8ed-4360-92dc-09b2c10576ee"
      },
      "source": [
        "classifier.train(\n",
        "    input_fn=lambda: input_fn(train, train_y, training=True),\n",
        "    steps=5000)\n",
        "\n",
        "# steps denote total steps : corresonds to epochs value\n",
        "# lambda function is used to generate function object needed to train the model \n",
        "\n",
        "#clear_output()"
      ],
      "execution_count": 31,
      "outputs": [
        {
          "output_type": "stream",
          "text": [
            "WARNING:tensorflow:From /usr/local/lib/python3.6/dist-packages/tensorflow/python/ops/resource_variable_ops.py:1666: calling BaseResourceVariable.__init__ (from tensorflow.python.ops.resource_variable_ops) with constraint is deprecated and will be removed in a future version.\n",
            "Instructions for updating:\n",
            "If using Keras pass *_constraint arguments to layers.\n",
            "WARNING:tensorflow:From /usr/local/lib/python3.6/dist-packages/tensorflow/python/training/training_util.py:236: Variable.initialized_value (from tensorflow.python.ops.variables) is deprecated and will be removed in a future version.\n",
            "Instructions for updating:\n",
            "Use Variable.read_value. Variables in 2.X are initialized automatically both in eager and graph (inside tf.defun) contexts.\n",
            "INFO:tensorflow:Calling model_fn.\n",
            "WARNING:tensorflow:Layer dnn is casting an input tensor from dtype float64 to the layer's dtype of float32, which is new behavior in TensorFlow 2.  The layer has dtype float32 because it's dtype defaults to floatx.\n",
            "\n",
            "If you intended to run this layer in float32, you can safely ignore this warning. If in doubt, this warning is likely only an issue if you are porting a TensorFlow 1.X model to TensorFlow 2.\n",
            "\n",
            "To change all layers to have dtype float64 by default, call `tf.keras.backend.set_floatx('float64')`. To change just this layer, pass dtype='float64' to the layer constructor. If you are the author of this layer, you can disable autocasting by passing autocast=False to the base Layer constructor.\n",
            "\n",
            "WARNING:tensorflow:From /usr/local/lib/python3.6/dist-packages/tensorflow/python/keras/optimizer_v2/adagrad.py:106: calling Constant.__init__ (from tensorflow.python.ops.init_ops) with dtype is deprecated and will be removed in a future version.\n",
            "Instructions for updating:\n",
            "Call initializer instance with the dtype argument instead of passing it to the constructor\n",
            "INFO:tensorflow:Done calling model_fn.\n",
            "INFO:tensorflow:Create CheckpointSaverHook.\n",
            "INFO:tensorflow:Graph was finalized.\n",
            "INFO:tensorflow:Running local_init_op.\n",
            "INFO:tensorflow:Done running local_init_op.\n",
            "INFO:tensorflow:Calling checkpoint listeners before saving checkpoint 0...\n",
            "INFO:tensorflow:Saving checkpoints for 0 into /tmp/tmpc8kdwf9q/model.ckpt.\n",
            "INFO:tensorflow:Calling checkpoint listeners after saving checkpoint 0...\n",
            "INFO:tensorflow:loss = 1.246845, step = 0\n",
            "INFO:tensorflow:global_step/sec: 488.989\n",
            "INFO:tensorflow:loss = 1.1024947, step = 100 (0.206 sec)\n",
            "INFO:tensorflow:global_step/sec: 574.829\n",
            "INFO:tensorflow:loss = 1.0588644, step = 200 (0.175 sec)\n",
            "INFO:tensorflow:global_step/sec: 639.163\n",
            "INFO:tensorflow:loss = 1.0290382, step = 300 (0.155 sec)\n",
            "INFO:tensorflow:global_step/sec: 652.107\n",
            "INFO:tensorflow:loss = 1.0059705, step = 400 (0.153 sec)\n",
            "INFO:tensorflow:global_step/sec: 668.19\n",
            "INFO:tensorflow:loss = 0.9830753, step = 500 (0.150 sec)\n",
            "INFO:tensorflow:global_step/sec: 659.059\n",
            "INFO:tensorflow:loss = 0.97325253, step = 600 (0.153 sec)\n",
            "INFO:tensorflow:global_step/sec: 566.218\n",
            "INFO:tensorflow:loss = 0.9514303, step = 700 (0.175 sec)\n",
            "INFO:tensorflow:global_step/sec: 639.595\n",
            "INFO:tensorflow:loss = 0.9404941, step = 800 (0.159 sec)\n",
            "INFO:tensorflow:global_step/sec: 633.875\n",
            "INFO:tensorflow:loss = 0.92431307, step = 900 (0.156 sec)\n",
            "INFO:tensorflow:global_step/sec: 646.857\n",
            "INFO:tensorflow:loss = 0.9151615, step = 1000 (0.156 sec)\n",
            "INFO:tensorflow:global_step/sec: 658.726\n",
            "INFO:tensorflow:loss = 0.903839, step = 1100 (0.152 sec)\n",
            "INFO:tensorflow:global_step/sec: 639.381\n",
            "INFO:tensorflow:loss = 0.8828225, step = 1200 (0.155 sec)\n",
            "INFO:tensorflow:global_step/sec: 664.363\n",
            "INFO:tensorflow:loss = 0.8691331, step = 1300 (0.152 sec)\n",
            "INFO:tensorflow:global_step/sec: 644.95\n",
            "INFO:tensorflow:loss = 0.8624479, step = 1400 (0.155 sec)\n",
            "INFO:tensorflow:global_step/sec: 659.393\n",
            "INFO:tensorflow:loss = 0.85316634, step = 1500 (0.150 sec)\n",
            "INFO:tensorflow:global_step/sec: 616.438\n",
            "INFO:tensorflow:loss = 0.83667326, step = 1600 (0.162 sec)\n",
            "INFO:tensorflow:global_step/sec: 655.199\n",
            "INFO:tensorflow:loss = 0.8368174, step = 1700 (0.153 sec)\n",
            "INFO:tensorflow:global_step/sec: 658.886\n",
            "INFO:tensorflow:loss = 0.8171371, step = 1800 (0.151 sec)\n",
            "INFO:tensorflow:global_step/sec: 673.449\n",
            "INFO:tensorflow:loss = 0.80669814, step = 1900 (0.148 sec)\n",
            "INFO:tensorflow:global_step/sec: 633.581\n",
            "INFO:tensorflow:loss = 0.78828347, step = 2000 (0.160 sec)\n",
            "INFO:tensorflow:global_step/sec: 627.146\n",
            "INFO:tensorflow:loss = 0.77591527, step = 2100 (0.160 sec)\n",
            "INFO:tensorflow:global_step/sec: 631.194\n",
            "INFO:tensorflow:loss = 0.77146995, step = 2200 (0.156 sec)\n",
            "INFO:tensorflow:global_step/sec: 624.707\n",
            "INFO:tensorflow:loss = 0.7495738, step = 2300 (0.161 sec)\n",
            "INFO:tensorflow:global_step/sec: 660.315\n",
            "INFO:tensorflow:loss = 0.7469938, step = 2400 (0.151 sec)\n",
            "INFO:tensorflow:global_step/sec: 659.351\n",
            "INFO:tensorflow:loss = 0.72709244, step = 2500 (0.152 sec)\n",
            "INFO:tensorflow:global_step/sec: 654.435\n",
            "INFO:tensorflow:loss = 0.7257626, step = 2600 (0.154 sec)\n",
            "INFO:tensorflow:global_step/sec: 611.969\n",
            "INFO:tensorflow:loss = 0.7167983, step = 2700 (0.162 sec)\n",
            "INFO:tensorflow:global_step/sec: 633.934\n",
            "INFO:tensorflow:loss = 0.7077291, step = 2800 (0.158 sec)\n",
            "INFO:tensorflow:global_step/sec: 675.398\n",
            "INFO:tensorflow:loss = 0.69478285, step = 2900 (0.148 sec)\n",
            "INFO:tensorflow:global_step/sec: 655.172\n",
            "INFO:tensorflow:loss = 0.692735, step = 3000 (0.155 sec)\n",
            "INFO:tensorflow:global_step/sec: 663.766\n",
            "INFO:tensorflow:loss = 0.6777533, step = 3100 (0.150 sec)\n",
            "INFO:tensorflow:global_step/sec: 662.567\n",
            "INFO:tensorflow:loss = 0.67799956, step = 3200 (0.151 sec)\n",
            "INFO:tensorflow:global_step/sec: 661.119\n",
            "INFO:tensorflow:loss = 0.66373116, step = 3300 (0.149 sec)\n",
            "INFO:tensorflow:global_step/sec: 637.237\n",
            "INFO:tensorflow:loss = 0.6498916, step = 3400 (0.157 sec)\n",
            "INFO:tensorflow:global_step/sec: 660.959\n",
            "INFO:tensorflow:loss = 0.6571028, step = 3500 (0.152 sec)\n",
            "INFO:tensorflow:global_step/sec: 657.397\n",
            "INFO:tensorflow:loss = 0.64331275, step = 3600 (0.151 sec)\n",
            "INFO:tensorflow:global_step/sec: 664.624\n",
            "INFO:tensorflow:loss = 0.6443821, step = 3700 (0.150 sec)\n",
            "INFO:tensorflow:global_step/sec: 644.16\n",
            "INFO:tensorflow:loss = 0.6310222, step = 3800 (0.155 sec)\n",
            "INFO:tensorflow:global_step/sec: 679.15\n",
            "INFO:tensorflow:loss = 0.62238425, step = 3900 (0.147 sec)\n",
            "INFO:tensorflow:global_step/sec: 602.021\n",
            "INFO:tensorflow:loss = 0.6079571, step = 4000 (0.166 sec)\n",
            "INFO:tensorflow:global_step/sec: 662.291\n",
            "INFO:tensorflow:loss = 0.61228603, step = 4100 (0.152 sec)\n",
            "INFO:tensorflow:global_step/sec: 669.154\n",
            "INFO:tensorflow:loss = 0.6048626, step = 4200 (0.151 sec)\n",
            "INFO:tensorflow:global_step/sec: 654.83\n",
            "INFO:tensorflow:loss = 0.6087974, step = 4300 (0.154 sec)\n",
            "INFO:tensorflow:global_step/sec: 667.176\n",
            "INFO:tensorflow:loss = 0.589998, step = 4400 (0.147 sec)\n",
            "INFO:tensorflow:global_step/sec: 664.822\n",
            "INFO:tensorflow:loss = 0.58990085, step = 4500 (0.152 sec)\n",
            "INFO:tensorflow:global_step/sec: 637.493\n",
            "INFO:tensorflow:loss = 0.580636, step = 4600 (0.157 sec)\n",
            "INFO:tensorflow:global_step/sec: 634.671\n",
            "INFO:tensorflow:loss = 0.5778258, step = 4700 (0.156 sec)\n",
            "INFO:tensorflow:global_step/sec: 644.811\n",
            "INFO:tensorflow:loss = 0.568346, step = 4800 (0.157 sec)\n",
            "INFO:tensorflow:global_step/sec: 673.116\n",
            "INFO:tensorflow:loss = 0.5635128, step = 4900 (0.148 sec)\n",
            "INFO:tensorflow:Calling checkpoint listeners before saving checkpoint 5000...\n",
            "INFO:tensorflow:Saving checkpoints for 5000 into /tmp/tmpc8kdwf9q/model.ckpt.\n",
            "INFO:tensorflow:Calling checkpoint listeners after saving checkpoint 5000...\n",
            "INFO:tensorflow:Loss for final step: 0.55981624.\n"
          ],
          "name": "stdout"
        },
        {
          "output_type": "execute_result",
          "data": {
            "text/plain": [
              "<tensorflow_estimator.python.estimator.canned.dnn.DNNClassifierV2 at 0x7fe636584c18>"
            ]
          },
          "metadata": {
            "tags": []
          },
          "execution_count": 31
        }
      ]
    },
    {
      "cell_type": "code",
      "metadata": {
        "id": "47sGmgIzIUbf",
        "colab_type": "code",
        "outputId": "2466a8e7-273a-4fd3-caca-ae15b827a2c9",
        "colab": {
          "base_uri": "https://localhost:8080/",
          "height": 371
        }
      },
      "source": [
        "eval_result = classifier.evaluate(\n",
        "    input_fn=lambda: input_fn(test, test_y, training=False))\n",
        "\n",
        "print('\\nTest set accuracy: {accuracy:0.3f}\\n'.format(**eval_result))"
      ],
      "execution_count": 32,
      "outputs": [
        {
          "output_type": "stream",
          "text": [
            "INFO:tensorflow:Calling model_fn.\n",
            "WARNING:tensorflow:Layer dnn is casting an input tensor from dtype float64 to the layer's dtype of float32, which is new behavior in TensorFlow 2.  The layer has dtype float32 because it's dtype defaults to floatx.\n",
            "\n",
            "If you intended to run this layer in float32, you can safely ignore this warning. If in doubt, this warning is likely only an issue if you are porting a TensorFlow 1.X model to TensorFlow 2.\n",
            "\n",
            "To change all layers to have dtype float64 by default, call `tf.keras.backend.set_floatx('float64')`. To change just this layer, pass dtype='float64' to the layer constructor. If you are the author of this layer, you can disable autocasting by passing autocast=False to the base Layer constructor.\n",
            "\n",
            "INFO:tensorflow:Done calling model_fn.\n",
            "INFO:tensorflow:Starting evaluation at 2020-04-04T10:34:24Z\n",
            "INFO:tensorflow:Graph was finalized.\n",
            "INFO:tensorflow:Restoring parameters from /tmp/tmpc8kdwf9q/model.ckpt-5000\n",
            "INFO:tensorflow:Running local_init_op.\n",
            "INFO:tensorflow:Done running local_init_op.\n",
            "INFO:tensorflow:Inference Time : 0.22246s\n",
            "INFO:tensorflow:Finished evaluation at 2020-04-04-10:34:24\n",
            "INFO:tensorflow:Saving dict for global step 5000: accuracy = 0.9, average_loss = 0.6005507, global_step = 5000, loss = 0.6005507\n",
            "INFO:tensorflow:Saving 'checkpoint_path' summary for global step 5000: /tmp/tmpc8kdwf9q/model.ckpt-5000\n",
            "\n",
            "Test set accuracy: 0.900\n",
            "\n"
          ],
          "name": "stdout"
        }
      ]
    },
    {
      "cell_type": "code",
      "metadata": {
        "id": "Vl_suqH9I5T9",
        "colab_type": "code",
        "outputId": "b603072e-26e4-4523-e780-2b12c553b663",
        "colab": {
          "base_uri": "https://localhost:8080/",
          "height": 217
        }
      },
      "source": [
        "def input_fn(features, batch_size=256):\n",
        "    # Convert the inputs to a Dataset without labels.\n",
        "    return tf.data.Dataset.from_tensor_slices(dict(features)).batch(batch_size)\n",
        "\n",
        "features = ['SepalLength', 'SepalWidth', 'PetalLength', 'PetalWidth']\n",
        "predict = {}\n",
        "\n",
        "print(\"Please type numeric values as prompted.\")\n",
        "for feature in features:\n",
        "  valid = True\n",
        "  while valid: \n",
        "    val = input(feature + \": \")\n",
        "    if not val.isdigit(): valid = False\n",
        "\n",
        "  predict[feature] = [float(val)]\n",
        "\n",
        "predictions = classifier.predict(input_fn=lambda: input_fn(predict))\n",
        "for pred_dict in predictions:\n",
        "    class_id = pred_dict['class_ids'][0]\n",
        "    probability = pred_dict['probabilities'][class_id]\n",
        "\n",
        "    print('Prediction is \"{}\" ({:.1f}%)'.format(\n",
        "        SPECIES[class_id], 100 * probability))\n"
      ],
      "execution_count": 33,
      "outputs": [
        {
          "output_type": "stream",
          "text": [
            "Please type numeric values as prompted.\n",
            "SepalLength: 1.4\n",
            "SepalWidth: 2.7\n",
            "PetalLength: 5.6\n",
            "PetalWidth: 6.5\n",
            "INFO:tensorflow:Calling model_fn.\n",
            "INFO:tensorflow:Done calling model_fn.\n",
            "INFO:tensorflow:Graph was finalized.\n",
            "INFO:tensorflow:Restoring parameters from /tmp/tmpc8kdwf9q/model.ckpt-5000\n",
            "INFO:tensorflow:Running local_init_op.\n",
            "INFO:tensorflow:Done running local_init_op.\n",
            "Prediction is \"Virginica\" (94.3%)\n"
          ],
          "name": "stdout"
        }
      ]
    },
    {
      "cell_type": "code",
      "metadata": {
        "id": "WTbev0PCLYmN",
        "colab_type": "code",
        "colab": {}
      },
      "source": [
        "# Above we can see how our model uses input data to make predictions based on the classifier"
      ],
      "execution_count": 0,
      "outputs": []
    },
    {
      "cell_type": "code",
      "metadata": {
        "id": "6DyRakbsOP8N",
        "colab_type": "code",
        "colab": {}
      },
      "source": [
        ""
      ],
      "execution_count": 0,
      "outputs": []
    }
  ]
}